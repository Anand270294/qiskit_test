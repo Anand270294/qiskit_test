{
 "cells": [
  {
   "cell_type": "markdown",
   "metadata": {},
   "source": [
    "# Phase Hamiltonian Mapper I\n",
    "\n",
    "## Use Sympy to map objective functions into Hamiltonians consisting of pauli matrices."
   ]
  },
  {
   "cell_type": "code",
   "execution_count": 1,
   "metadata": {},
   "outputs": [],
   "source": [
    "# Import Sympy and all it libraries\n",
    "from sympy import *\n",
    "from sympy.core.compatibility import exec_\n",
    "from sympy.parsing.sympy_parser import parse_expr\n",
    "import sys\n",
    "init_printing(use_unicode= True)"
   ]
  },
  {
   "cell_type": "code",
   "execution_count": 2,
   "metadata": {},
   "outputs": [],
   "source": [
    "expr = '(1/2)*(1 - x1*x2)'\n",
    "var = ['x1', 'x2']"
   ]
  },
  {
   "cell_type": "code",
   "execution_count": 3,
   "metadata": {},
   "outputs": [],
   "source": [
    "def p_Hamil(expression, var):\n",
    "    # Check if variables are a match before converting to symbols\n",
    "    for v in var:\n",
    "        if (v in expression):\n",
    "            pass\n",
    "        else:\n",
    "            raise ValueError('Variables Mismatch! Unable to find {} in the Objective Function: {}'.format(v, expression))\n",
    "            \n",
    "    # Convert the str expression into sympy\n",
    "    exp = sympify(expression)\n",
    "    variable1 = list(exp.free_symbols)\n",
    "    x_sub = symbols('(1/2)*(I - Z)')\n",
    "    exp.subs(x1, x_sub)\n",
    "    return exp"
   ]
  },
  {
   "cell_type": "code",
   "execution_count": 4,
   "metadata": {},
   "outputs": [
    {
     "data": {
      "image/png": "[encoded data removed]",
      "text/latex": [
       "$\\displaystyle - \\frac{x_{1} x_{2}}{2} + \\frac{1}{2}$"
      ],
      "text/plain": [
       "  x₁⋅x₂   1\n",
       "- ───── + ─\n",
       "    2     2"
      ]
     },
     "execution_count": 4,
     "metadata": {},
     "output_type": "execute_result"
    }
   ],
   "source": [
    "p_Hamil(expr, var)"
   ]
  },
  {
   "cell_type": "code",
   "execution_count": null,
   "metadata": {},
   "outputs": [],
   "source": []
  },
  {
   "cell_type": "code",
   "execution_count": null,
   "metadata": {},
   "outputs": [],
   "source": []
  }
 ],
 "metadata": {
  "kernelspec": {
   "display_name": "Python 3",
   "language": "python",
   "name": "python3"
  },
  "language_info": {
   "codemirror_mode": {
    "name": "ipython",
    "version": 3
   },
   "file_extension": ".py",
   "mimetype": "text/x-python",
   "name": "python",
   "nbconvert_exporter": "python",
   "pygments_lexer": "ipython3",
   "version": "3.7.3"
  }
 },
 "nbformat": 4,
 "nbformat_minor": 2
}

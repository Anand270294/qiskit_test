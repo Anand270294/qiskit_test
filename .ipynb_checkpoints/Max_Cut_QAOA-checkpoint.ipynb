{
 "cells": [
  {
   "cell_type": "markdown",
   "metadata": {},
   "source": [
    "# Max-Cut QAOA for n = 2\n",
    "## Quantum Approximate Optimization Algorithm for n = 2 vertices\n",
    "### Understanding how the QAOA works using 2-vertex graph so solve the max-cut problem\n",
    "## -----------------------------------------------------------------------------------------------------------------------------------\n",
    "#### Import all relavent libraries/packages to run the algorithm"
   ]
  },
  {
   "cell_type": "code",
   "execution_count": 1,
   "metadata": {},
   "outputs": [],
   "source": [
    "from qiskit import *\n",
    "from scipy import optimize as opt\n",
    "import numpy as np\n",
    "import networkx as nx\n",
    "import matplotlib.pyplot as plt\n",
    "%matplotlib inline"
   ]
  },
  {
   "cell_type": "markdown",
   "metadata": {},
   "source": [
    "#### For n = 2 connected unweighted graph there is only one possible type of graph that would work for a max-cut problem as shown below:"
   ]
  },
  {
   "cell_type": "code",
   "execution_count": 2,
   "metadata": {},
   "outputs": [
    {
     "name": "stderr",
     "output_type": "stream",
     "text": [
      "/home/anand/anaconda3/lib/python3.7/site-packages/networkx/drawing/nx_pylab.py:579: MatplotlibDeprecationWarning: \n",
      "The iterable function was deprecated in Matplotlib 3.1 and will be removed in 3.3. Use np.iterable instead.\n",
      "  if not cb.iterable(width):\n"
     ]
    },
    {
     "data": {
      "image/png": "[encoded data removed]",
      "text/plain": [
       "<Figure size 432x288 with 1 Axes>"
      ]
     },
     "metadata": {},
     "output_type": "display_data"
    }
   ],
   "source": [
    "G = nx.Graph()\n",
    "G.add_nodes_from([1,2])\n",
    "G.add_edges_from([(1,2)])\n",
    "\n",
    "nx.draw_shell(G, with_labels=True, font_weight='bold')\n",
    "plt.show()"
   ]
  },
  {
   "cell_type": "markdown",
   "metadata": {},
   "source": [
    "#### Now we have to construct the quantum circuit for the max-cut problem. The classical  Max-Cut problem is :\n",
    "#### $ C_{<i,j>} = max \\sum \\frac{1}{2} (1 - \\sigma_i^Z\\sigma_j^Z)$\n",
    "#### However, there is only 2 vertices in this particular problem, the problem reduces to :\n",
    "#### $ C_{<i,j>} = max  \\frac{1}{2} (1 - \\sigma_1^Z\\sigma_2^Z)$\n",
    "#### The sigma notation is indicate if a particula vertex is on the $S$ or the $\\neg S$ of the graph where if it is the value of  $\\sigma_i^Z$ = -1 else it is 1\n",
    "#### Hence the quantum circuit converts into :"
   ]
  },
  {
   "cell_type": "code",
   "execution_count": 3,
   "metadata": {},
   "outputs": [
    {
     "data": {
      "image/png": "[encoded data removed]",
      "text/plain": [
       "<Figure size 457.52x144.48 with 1 Axes>"
      ]
     },
     "execution_count": 3,
     "metadata": {},
     "output_type": "execute_result"
    }
   ],
   "source": [
    "# Initialize the circuit\n",
    "circuit = QuantumCircuit(2)\n",
    "# Set the std params for the RX() gate\n",
    "beta = np.pi # range of betas for Rx is 0 <= B <= pi\n",
    "gamma = np.pi * 2 # range of gammas for Rz 0 <= g <= 2pi\n",
    "# Declare hyperparams\n",
    "hyperparams = [gamma, beta]\n",
    "\n",
    "## MAX-CUT circuit for 2-vertices problem\n",
    "circuit.h(0)\n",
    "circuit.h(1)\n",
    "\n",
    "# declare the hamiltonian function\n",
    "Cost_hamiltonian = QuantumCircuit(2)\n",
    "Cost_hamiltonian.cx(0,1)\n",
    "Cost_hamiltonian.rz(hyperparams[0],1)\n",
    "Cost_hamiltonian.cx(0,1)\n",
    "Cost_hamiltonian.rx(hyperparams[1],0)\n",
    "Cost_hamiltonian.rx(hyperparams[1],1)\n",
    "\n",
    "circuit += Cost_hamiltonian\n",
    "\n",
    "# Draw the ciruit out\n",
    "circuit.draw(output='mpl')"
   ]
  },
  {
   "cell_type": "markdown",
   "metadata": {},
   "source": [
    "#### We will never know the results unless the measurement is made :"
   ]
  },
  {
   "cell_type": "code",
   "execution_count": 4,
   "metadata": {},
   "outputs": [
    {
     "data": {
      "image/png": "[encoded data removed]",
      "text/plain": [
       "<Figure size 638.12x204.68 with 1 Axes>"
      ]
     },
     "execution_count": 4,
     "metadata": {},
     "output_type": "execute_result"
    }
   ],
   "source": [
    "# Create a Quantum Circuit\n",
    "meas = QuantumCircuit(2, 2)\n",
    "meas.barrier(range(2))\n",
    "# map the quantum measurement to the classical bits\n",
    "meas.measure(range(2),range(2))\n",
    "\n",
    "# The Qiskit circuit object supports composition using\n",
    "# the addition operator.\n",
    "qc = circuit\n",
    "qc += meas\n",
    "#drawing the circuit\n",
    "qc.draw(output='mpl')"
   ]
  },
  {
   "cell_type": "markdown",
   "metadata": {},
   "source": [
    "#### Now, we need to import the backend from the library in this case a simulator:"
   ]
  },
  {
   "cell_type": "code",
   "execution_count": 5,
   "metadata": {},
   "outputs": [],
   "source": [
    "# Use Aer's qasm_simulator\n",
    "backend_sim = Aer.get_backend('qasm_simulator')\n",
    "\n",
    "# Execute the circuit on the qasm simulator.\n",
    "# We've set the number of repeats of the circuit\n",
    "# to be 1024, which is the default.\n",
    "job_sim = execute(qc, backend_sim, shots=1024)\n",
    "\n",
    "# Grab the results from the job.\n",
    "result_sim = job_sim.result()\n",
    "counts = result_sim.get_counts(qc)"
   ]
  },
  {
   "cell_type": "markdown",
   "metadata": {},
   "source": [
    "#### Run the ciruit and finally plot the histogram:"
   ]
  },
  {
   "cell_type": "code",
   "execution_count": 6,
   "metadata": {},
   "outputs": [
    {
     "data": {
      "image/png": "[encoded data removed]",
      "text/plain": [
       "<Figure size 504x360 with 1 Axes>"
      ]
     },
     "execution_count": 6,
     "metadata": {},
     "output_type": "execute_result"
    }
   ],
   "source": [
    "from qiskit.visualization import plot_histogram\n",
    "plot_histogram(counts)"
   ]
  },
  {
   "cell_type": "markdown",
   "metadata": {},
   "source": [
    "#### However, we did not get the result we expected since all possible qubit combinations came with equal probablities. For this particular problem we know that each vertex must lie on opposite sides of the cut in order to maximize the Cost.\n",
    "\n",
    "#### Now we have to employ the use of optimizers to tune the values of the hyperparamters to minimize the Cost, hence we declare a get cost function which returns the $<H_c>$ :"
   ]
  },
  {
   "cell_type": "code",
   "execution_count": 7,
   "metadata": {},
   "outputs": [],
   "source": [
    "def get_cost(counts, no_of_shots):\n",
    "    cost = 0.0\n",
    "    c = 0\n",
    "    for qubit_string , expt in counts.items():\n",
    "        if qubit_string[0] == qubit_string[1]:\n",
    "            c = 0\n",
    "        else:\n",
    "            c = 1\n",
    "        cost += c * (expt / no_of_shots)\n",
    "    return cost"
   ]
  },
  {
   "cell_type": "markdown",
   "metadata": {},
   "source": [
    "#### Then we will also define a function that runs the circuits and returns the $<H_c>$ of the problem so that we can use the function in the Scipy.Optimize.minimize function :\n",
    "\n",
    "##### Notice that we return the cost as 1 - $<H_c>$ so that we can minimize the Cost  Expectation value"
   ]
  },
  {
   "cell_type": "code",
   "execution_count": 8,
   "metadata": {},
   "outputs": [],
   "source": [
    "def run_circuit_and_get_cost(hyperparams):\n",
    "    # Initialize the circuit\n",
    "    circuit = QuantumCircuit(2)\n",
    "    ## MAX-CUT circuit for 2-vertices problem\n",
    "    circuit.h(0)\n",
    "    circuit.h(1)\n",
    "\n",
    "    # declare the hamiltonian function\n",
    "    Cost_hamiltonian = QuantumCircuit(2)\n",
    "    Cost_hamiltonian.cx(0,1)\n",
    "    Cost_hamiltonian.rz(hyperparams[0],1)\n",
    "    Cost_hamiltonian.cx(0,1)\n",
    "    Cost_hamiltonian.rx(hyperparams[1],0)\n",
    "    Cost_hamiltonian.rx(hyperparams[1],1)\n",
    "\n",
    "    circuit += Cost_hamiltonian\n",
    "\n",
    "    \n",
    "    # Create a Quantum Circuit\n",
    "    meas = QuantumCircuit(2, 2)\n",
    "    meas.barrier(range(2))\n",
    "    # map the quantum measurement to the classical bits\n",
    "    meas.measure(range(2),range(2))\n",
    "\n",
    "    # The Qiskit circuit object supports composition using\n",
    "    # the addition operator.\n",
    "    qc = circuit\n",
    "    qc += meas\n",
    "\n",
    "    # Use Aer's qasm_simulator\n",
    "    backend_sim = Aer.get_backend('qasm_simulator')\n",
    "\n",
    "    # Execute the circuit on the qasm simulator.\n",
    "    # We've set the number of repeats of the circuit\n",
    "    # to be 1024, which is the default.\n",
    "    job_sim = execute(qc, backend_sim, shots=1024)\n",
    "\n",
    "    # Grab the results from the job.\n",
    "    result_sim = job_sim.result()\n",
    "    counts = result_sim.get_counts(qc)\n",
    "    \n",
    "    return 1 - get_cost(counts, no_of_shots=1024)"
   ]
  },
  {
   "cell_type": "markdown",
   "metadata": {},
   "source": [
    "#### We can finally optimize the hyperparameters! We shall use COBYLA algorithm for this optimization (we will exploring other possible optimizers in the future) \n",
    "#### Set the hyperparamters to a random value of your choice and run the optimizer!"
   ]
  },
  {
   "cell_type": "code",
   "execution_count": 9,
   "metadata": {},
   "outputs": [],
   "source": [
    "hyperparamters = [0.4, 0.7]\n",
    "#hyperp_bounds = opt.Bounds([0, np.pi *2], [0, np.pi])\n",
    "\n",
    "res = opt.minimize(run_circuit_and_get_cost,hyperparamters,tol= 1e-3, method='COBYLA')"
   ]
  },
  {
   "cell_type": "markdown",
   "metadata": {},
   "source": [
    "#### We have managed to succesfully optimize the circuit with the hyperparamter values for Gamma = 1.4773 and Beta = 2.3777. "
   ]
  },
  {
   "cell_type": "code",
   "execution_count": 10,
   "metadata": {},
   "outputs": [
    {
     "name": "stdout",
     "output_type": "stream",
     "text": [
      "     fun: 0.013671875\n",
      "   maxcv: 0.0\n",
      " message: 'Optimization terminated successfully.'\n",
      "    nfev: 24\n",
      "  status: 1\n",
      " success: True\n",
      "       x: array([1.35585417, 2.40628201])\n"
     ]
    }
   ],
   "source": [
    "print(res)\n",
    "hyperparams = res.x"
   ]
  },
  {
   "cell_type": "markdown",
   "metadata": {},
   "source": [
    "#### All that is left is too run the circuit again with the optimized hyperparamters and see the results.\n",
    "\n",
    "#### From the the histogram below, it is evident that we managed to get the right answer where the vertices of the graph are to be in opposite sides of the cut  $|01>$  or  $|10>$ in order to maximize the cut."
   ]
  },
  {
   "cell_type": "code",
   "execution_count": 11,
   "metadata": {},
   "outputs": [
    {
     "data": {
      "image/png": "[encoded data removed]",
      "text/plain": [
       "<Figure size 504x360 with 1 Axes>"
      ]
     },
     "execution_count": 11,
     "metadata": {},
     "output_type": "execute_result"
    }
   ],
   "source": [
    "# Initialize the circuit\n",
    "circuit = QuantumCircuit(2)\n",
    "## MAX-CUT circuit for 2-vertices problem\n",
    "circuit.h(0)\n",
    "circuit.h(1)\n",
    "\n",
    "# declare the hamiltonian function\n",
    "Cost_hamiltonian = QuantumCircuit(2)\n",
    "Cost_hamiltonian.cx(1,0)\n",
    "Cost_hamiltonian.rz(hyperparams[0],0)\n",
    "Cost_hamiltonian.cx(1,0)\n",
    "Cost_hamiltonian.rx(hyperparams[1],0)\n",
    "Cost_hamiltonian.rx(hyperparams[1],1)\n",
    "\n",
    "circuit += Cost_hamiltonian\n",
    "\n",
    "    \n",
    "# Create a Quantum Circuit\n",
    "meas = QuantumCircuit(2, 2)\n",
    "meas.barrier(range(2))\n",
    "# map the quantum measurement to the classical bits\n",
    "meas.measure(range(2),range(2))\n",
    "\n",
    "# The Qiskit circuit object supports composition using\n",
    "# the addition operator.\n",
    "qc = circuit\n",
    "qc += meas\n",
    "\n",
    "# Use Aer's qasm_simulator\n",
    "backend_sim = Aer.get_backend('qasm_simulator')\n",
    "\n",
    "# Execute the circuit on the qasm simulator.\n",
    "# We've set the number of repeats of the circuit\n",
    "# to be 1024, which is the default.\n",
    "job_sim = execute(qc, backend_sim, shots=1024)\n",
    "\n",
    "# Grab the results from the job.\n",
    "result_sim = job_sim.result()\n",
    "counts = result_sim.get_counts(qc)\n",
    "\n",
    "from qiskit.visualization import plot_histogram\n",
    "plot_histogram(counts)"
   ]
  },
  {
   "cell_type": "code",
   "execution_count": null,
   "metadata": {},
   "outputs": [],
   "source": []
  }
 ],
 "metadata": {
  "kernelspec": {
   "display_name": "Python 3",
   "language": "python",
   "name": "python3"
  },
  "language_info": {
   "codemirror_mode": {
    "name": "ipython",
    "version": 3
   },
   "file_extension": ".py",
   "mimetype": "text/x-python",
   "name": "python",
   "nbconvert_exporter": "python",
   "pygments_lexer": "ipython3",
   "version": "3.7.3"
  }
 },
 "nbformat": 4,
 "nbformat_minor": 2
}

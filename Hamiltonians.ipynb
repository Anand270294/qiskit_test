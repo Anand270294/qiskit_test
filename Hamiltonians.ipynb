{
 "cells": [
  {
   "cell_type": "markdown",
   "metadata": {},
   "source": [
    "# Phase Hamiltonian Mapper I\n",
    "\n",
    "## Use Sympy to map objective functions into Hamiltonians consisting of pauli matrices."
   ]
  },
  {
   "cell_type": "code",
   "execution_count": 1,
   "metadata": {},
   "outputs": [],
   "source": [
    "# Import Sympy and all it libraries\n",
    "from sympy import *"
   ]
  },
  {
   "cell_type": "markdown",
   "metadata": {},
   "source": [
    "### Using Sympy we have to define certain structure in order to get the Hamiltonian mapped correctly\n",
    "### The objective function should be defined with a variable list and the function itself\n",
    "### For example:"
   ]
  },
  {
   "cell_type": "code",
   "execution_count": 2,
   "metadata": {},
   "outputs": [
    {
     "data": {
      "text/latex": [
       "$\\displaystyle - \\frac{x_{i} x_{j}}{2} + 2 x_{i} - x_{j} + x_{k} x_{l} + \\frac{1}{2}$"
      ],
      "text/plain": [
       "-x_i*x_j/2 + 2*x_i - x_j + x_k*x_l + 1/2"
      ]
     },
     "execution_count": 2,
     "metadata": {},
     "output_type": "execute_result"
    }
   ],
   "source": [
    "expr = '(1/2)*(1 - x_i*x_j) + x_i*2 - x_j + (x_k * x_l)'\n",
    "var = ['x_i', 'x_j','x_k','x_l']\n",
    "sympify(expr)"
   ]
  },
  {
   "cell_type": "markdown",
   "metadata": {},
   "source": [
    "### Firstly we need ot check if the variables in the list matches those in given  in  the objective function:"
   ]
  },
  {
   "cell_type": "code",
   "execution_count": 3,
   "metadata": {},
   "outputs": [],
   "source": [
    "for v in var:\n",
    "            if(v in expr):\n",
    "                pass\n",
    "            else:\n",
    "                raise ValueError('Variables Mismatch! Unable to find {} in the Objective Function: {}'.format(v, expr))"
   ]
  },
  {
   "cell_type": "markdown",
   "metadata": {},
   "source": [
    "### Then we need to define the Pauli matrices and the Identity Matrices based on the variables there are:"
   ]
  },
  {
   "cell_type": "code",
   "execution_count": 4,
   "metadata": {},
   "outputs": [],
   "source": [
    "# init function\n",
    "I = symbols('I')\n",
    "Z = []\n",
    "X = []\n",
    "Y = []\n",
    "\n",
    "# Next we define the pauli Z:\n",
    "for i in range(len(var)):\n",
    "    Z.append(symbols('Z_{}'.format(var[i][len(var[i])-1])))\n",
    "    Y.append(symbols('Y_{}'.format(var[i][len(var[i])-1])))\n",
    "    X.append(symbols('Y_{}'.format(var[i][len(var[i])-1])))"
   ]
  },
  {
   "cell_type": "markdown",
   "metadata": {},
   "source": [
    "### Since for each x term we substitute it with 1/2(I - Z) term but first we need to convert the expression into a sympy"
   ]
  },
  {
   "cell_type": "code",
   "execution_count": 5,
   "metadata": {},
   "outputs": [
    {
     "data": {
      "text/latex": [
       "$\\displaystyle 0.125 I^{2} + 0.125 I Z_{i} + 0.125 I Z_{j} - 0.25 I Z_{k} - 0.25 I Z_{l} + 0.5 I - 0.125 Z_{i} Z_{j} - 1.0 Z_{i} + 0.5 Z_{j} + 0.25 Z_{k} Z_{l} + \\frac{1}{2}$"
      ],
      "text/plain": [
       "0.125*I**2 + 0.125*I*Z_i + 0.125*I*Z_j - 0.25*I*Z_k - 0.25*I*Z_l + 0.5*I - 0.125*Z_i*Z_j - 1.0*Z_i + 0.5*Z_j + 0.25*Z_k*Z_l + 1/2"
      ]
     },
     "execution_count": 5,
     "metadata": {},
     "output_type": "execute_result"
    }
   ],
   "source": [
    "sym_expr = sympify(expr)\n",
    "\n",
    "for i in range(len(var)):\n",
    "    s_term = (1/2)*(I - Z[i])\n",
    "    sym_expr = sym_expr.subs(var[i],s_term)\n",
    "    \n",
    "\n",
    "sym_expr = expand(sym_expr)\n",
    "sym_expr"
   ]
  },
  {
   "cell_type": "markdown",
   "metadata": {},
   "source": [
    "### Now we have to simpify the expressions by \n",
    "### 1. Multiplcation with the Identity Matrix\n",
    "### 2. Remove any global factors/ Identity Matrix"
   ]
  },
  {
   "cell_type": "code",
   "execution_count": 6,
   "metadata": {},
   "outputs": [],
   "source": [
    "sym_expr = sym_expr.subs(I,1)\n"
   ]
  },
  {
   "cell_type": "code",
   "execution_count": 7,
   "metadata": {},
   "outputs": [
    {
     "data": {
      "text/latex": [
       "$\\displaystyle - 0.125 Z_{i} Z_{j} - 0.875 Z_{i} + 0.625 Z_{j} + 0.25 Z_{k} Z_{l} - 0.25 Z_{k} - 0.25 Z_{l} + 1.125$"
      ],
      "text/plain": [
       "-0.125*Z_i*Z_j - 0.875*Z_i + 0.625*Z_j + 0.25*Z_k*Z_l - 0.25*Z_k - 0.25*Z_l + 1.125"
      ]
     },
     "execution_count": 7,
     "metadata": {},
     "output_type": "execute_result"
    }
   ],
   "source": []
  },
  {
   "cell_type": "code",
   "execution_count": null,
   "metadata": {},
   "outputs": [],
   "source": []
  }
 ],
 "metadata": {
  "kernelspec": {
   "display_name": "Python 3",
   "language": "python",
   "name": "python3"
  },
  "language_info": {
   "codemirror_mode": {
    "name": "ipython",
    "version": 3
   },
   "file_extension": ".py",
   "mimetype": "text/x-python",
   "name": "python",
   "nbconvert_exporter": "python",
   "pygments_lexer": "ipython3",
   "version": "3.7.3"
  }
 },
 "nbformat": 4,
 "nbformat_minor": 2
}

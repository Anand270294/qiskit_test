{
 "cells": [
  {
   "cell_type": "markdown",
   "metadata": {},
   "source": [
    "# Phase Hamiltonian Mapper I\n",
    "\n",
    "## Use Sympy to map objective functions into Hamiltonians consisting of pauli matrices."
   ]
  },
  {
   "cell_type": "code",
   "execution_count": 1,
   "metadata": {},
   "outputs": [],
   "source": [
    "# Import Sympy and all it libraries\n",
    "from sympy import *"
   ]
  },
  {
   "cell_type": "markdown",
   "metadata": {},
   "source": [
    "### Using Sympy we have to define certain structure in order to get the Hamiltonian mapped correctly\n",
    "### The objective function should be defined with a variable list and the function itself\n",
    "### For example:"
   ]
  },
  {
   "cell_type": "code",
   "execution_count": 2,
   "metadata": {},
   "outputs": [
    {
     "data": {
      "text/latex": [
       "$\\displaystyle x_{i} x_{j} x_{l} x_{m}$"
      ],
      "text/plain": [
       "x_i*x_j*x_l*x_m"
      ]
     },
     "execution_count": 2,
     "metadata": {},
     "output_type": "execute_result"
    }
   ],
   "source": [
    "expr = '(x_l*x_m)*(x_i*x_j)'\n",
    "var = ['x_i', 'x_j', 'x_l','x_m']\n",
    "sympify(expr)"
   ]
  },
  {
   "cell_type": "markdown",
   "metadata": {},
   "source": [
    "### Firstly we need ot check if the variables in the list matches those in given  in  the objective function:"
   ]
  },
  {
   "cell_type": "code",
   "execution_count": 3,
   "metadata": {},
   "outputs": [],
   "source": [
    "for v in var:\n",
    "            if(v in expr):\n",
    "                pass\n",
    "            else:\n",
    "                raise ValueError('Variables Mismatch! Unable to find {} in the Objective Function: {}'.format(v, expr))"
   ]
  },
  {
   "cell_type": "markdown",
   "metadata": {},
   "source": [
    "### Then we need to define the Pauli matrices and the Identity Matrices based on the number variables there are:"
   ]
  },
  {
   "cell_type": "code",
   "execution_count": 4,
   "metadata": {},
   "outputs": [],
   "source": [
    "# init function\n",
    "I = symbols('I')\n",
    "Z = []\n",
    "X = []\n",
    "Y = []\n",
    "\n",
    "# Next we define the pauli Z:\n",
    "for i in range(len(var)):\n",
    "    Z.append(symbols('Z_{}'.format(var[i][len(var[i])-1])))\n",
    "    Y.append(symbols('Y_{}'.format(var[i][len(var[i])-1])))\n",
    "    X.append(symbols('Y_{}'.format(var[i][len(var[i])-1])))"
   ]
  },
  {
   "cell_type": "markdown",
   "metadata": {},
   "source": [
    "### Since for each x term we substitute it with 1/2(I - Z) term but first we need to convert the expression into a sympy"
   ]
  },
  {
   "cell_type": "code",
   "execution_count": 5,
   "metadata": {},
   "outputs": [
    {
     "data": {
      "text/latex": [
       "$\\displaystyle 0.0625 I^{4} - 0.0625 I^{3} Z_{i} - 0.0625 I^{3} Z_{j} - 0.0625 I^{3} Z_{l} - 0.0625 I^{3} Z_{m} + 0.0625 I^{2} Z_{i} Z_{j} + 0.0625 I^{2} Z_{i} Z_{l} + 0.0625 I^{2} Z_{i} Z_{m} + 0.0625 I^{2} Z_{j} Z_{l} + 0.0625 I^{2} Z_{j} Z_{m} + 0.0625 I^{2} Z_{l} Z_{m} - 0.0625 I Z_{i} Z_{j} Z_{l} - 0.0625 I Z_{i} Z_{j} Z_{m} - 0.0625 I Z_{i} Z_{l} Z_{m} - 0.0625 I Z_{j} Z_{l} Z_{m} + 0.0625 Z_{i} Z_{j} Z_{l} Z_{m}$"
      ],
      "text/plain": [
       "0.0625*I**4 - 0.0625*I**3*Z_i - 0.0625*I**3*Z_j - 0.0625*I**3*Z_l - 0.0625*I**3*Z_m + 0.0625*I**2*Z_i*Z_j + 0.0625*I**2*Z_i*Z_l + 0.0625*I**2*Z_i*Z_m + 0.0625*I**2*Z_j*Z_l + 0.0625*I**2*Z_j*Z_m + 0.0625*I**2*Z_l*Z_m - 0.0625*I*Z_i*Z_j*Z_l - 0.0625*I*Z_i*Z_j*Z_m - 0.0625*I*Z_i*Z_l*Z_m - 0.0625*I*Z_j*Z_l*Z_m + 0.0625*Z_i*Z_j*Z_l*Z_m"
      ]
     },
     "execution_count": 5,
     "metadata": {},
     "output_type": "execute_result"
    }
   ],
   "source": [
    "sym_expr = sympify(expr)\n",
    "\n",
    "for i in range(len(var)):\n",
    "    s_term = (1/2)*(I - Z[i])\n",
    "    sym_expr = sym_expr.subs(var[i],s_term)\n",
    "    \n",
    "\n",
    "sym_expr = expand(sym_expr)\n",
    "sym_expr"
   ]
  },
  {
   "cell_type": "markdown",
   "metadata": {},
   "source": [
    "### Now we have to simpify the expressions by \n",
    "### 1. Multiplcation with the Identity Matrix\n",
    "### 2. Remove any global factors/ Identity Matrix"
   ]
  },
  {
   "cell_type": "code",
   "execution_count": 6,
   "metadata": {},
   "outputs": [
    {
     "data": {
      "text/latex": [
       "$\\displaystyle 0.0625 Z_{i} Z_{j} Z_{l} Z_{m} - 0.0625 Z_{i} Z_{j} Z_{l} - 0.0625 Z_{i} Z_{j} Z_{m} + 0.0625 Z_{i} Z_{j} - 0.0625 Z_{i} Z_{l} Z_{m} + 0.0625 Z_{i} Z_{l} + 0.0625 Z_{i} Z_{m} - 0.0625 Z_{i} - 0.0625 Z_{j} Z_{l} Z_{m} + 0.0625 Z_{j} Z_{l} + 0.0625 Z_{j} Z_{m} - 0.0625 Z_{j} + 0.0625 Z_{l} Z_{m} - 0.0625 Z_{l} - 0.0625 Z_{m}$"
      ],
      "text/plain": [
       "0.0625*Z_i*Z_j*Z_l*Z_m - 0.0625*Z_i*Z_j*Z_l - 0.0625*Z_i*Z_j*Z_m + 0.0625*Z_i*Z_j - 0.0625*Z_i*Z_l*Z_m + 0.0625*Z_i*Z_l + 0.0625*Z_i*Z_m - 0.0625*Z_i - 0.0625*Z_j*Z_l*Z_m + 0.0625*Z_j*Z_l + 0.0625*Z_j*Z_m - 0.0625*Z_j + 0.0625*Z_l*Z_m - 0.0625*Z_l - 0.0625*Z_m"
      ]
     },
     "execution_count": 6,
     "metadata": {},
     "output_type": "execute_result"
    }
   ],
   "source": [
    "sym_expr = sym_expr.subs(I,1)\n",
    "coe = sym_expr.as_coefficients_dict()\n",
    "\n",
    "g_phase = coe.get(1) # remove the global phase/values without Z terms\n",
    "sym_expr = sym_expr - g_phase\n",
    "sym_expr"
   ]
  },
  {
   "cell_type": "code",
   "execution_count": 7,
   "metadata": {},
   "outputs": [
    {
     "data": {
      "text/plain": [
       "[(1, 1, 1, 1),\n",
       " (1, 1, 1, 0),\n",
       " (1, 1, 0, 1),\n",
       " (1, 1, 0, 0),\n",
       " (1, 0, 1, 1),\n",
       " (1, 0, 1, 0),\n",
       " (1, 0, 0, 1),\n",
       " (1, 0, 0, 0),\n",
       " (0, 1, 1, 1),\n",
       " (0, 1, 1, 0),\n",
       " (0, 1, 0, 1),\n",
       " (0, 1, 0, 0),\n",
       " (0, 0, 1, 1),\n",
       " (0, 0, 1, 0),\n",
       " (0, 0, 0, 1)]"
      ]
     },
     "execution_count": 7,
     "metadata": {},
     "output_type": "execute_result"
    }
   ],
   "source": [
    "p_expr = Poly(sym_expr,Z)\n",
    "qc_list = p_expr.monoms()\n",
    "qc_list"
   ]
  },
  {
   "cell_type": "markdown",
   "metadata": {},
   "source": [
    "###"
   ]
  },
  {
   "cell_type": "code",
   "execution_count": 9,
   "metadata": {},
   "outputs": [],
   "source": [
    "import P_Hamil as ph"
   ]
  },
  {
   "cell_type": "code",
   "execution_count": null,
   "metadata": {},
   "outputs": [],
   "source": []
  }
 ],
 "metadata": {
  "kernelspec": {
   "display_name": "Python 3",
   "language": "python",
   "name": "python3"
  },
  "language_info": {
   "codemirror_mode": {
    "name": "ipython",
    "version": 3
   },
   "file_extension": ".py",
   "mimetype": "text/x-python",
   "name": "python",
   "nbconvert_exporter": "python",
   "pygments_lexer": "ipython3",
   "version": "3.7.3"
  }
 },
 "nbformat": 4,
 "nbformat_minor": 2
}

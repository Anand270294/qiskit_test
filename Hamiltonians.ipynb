{
 "cells": [
  {
   "cell_type": "markdown",
   "metadata": {},
   "source": [
    "# Phase Hamiltonian Mapper I\n",
    "\n",
    "## Use Sympy to map objective functions into Hamiltonians consisting of pauli matrices."
   ]
  },
  {
   "cell_type": "code",
   "execution_count": 1,
   "metadata": {},
   "outputs": [],
   "source": [
    "# Import Sympy and all it libraries\n",
    "from sympy import *"
   ]
  },
  {
   "cell_type": "markdown",
   "metadata": {},
   "source": [
    "### Using Sympy we have to define certain structure in order to get the Hamiltonian mapped correctly\n",
    "### The objective function should be defined with a variable list and the function itself\n",
    "### For example:"
   ]
  },
  {
   "cell_type": "code",
   "execution_count": 2,
   "metadata": {},
   "outputs": [
    {
     "data": {
      "text/latex": [
       "$\\displaystyle x_{i} x_{j} x_{l} x_{m}$"
      ],
      "text/plain": [
       "x_i*x_j*x_l*x_m"
      ]
     },
     "execution_count": 2,
     "metadata": {},
     "output_type": "execute_result"
    }
   ],
   "source": [
    "expr = '(x_l*x_m)*(x_i*x_j)'\n",
    "var = ['x_i', 'x_j', 'x_l','x_m']\n",
    "sympify(expr)"
   ]
  },
  {
   "cell_type": "markdown",
   "metadata": {},
   "source": [
    "### Firstly we need ot check if the variables in the list matches those in given  in  the objective function:"
   ]
  },
  {
   "cell_type": "code",
   "execution_count": 3,
   "metadata": {},
   "outputs": [],
   "source": [
    "for v in var:\n",
    "            if(v in expr):\n",
    "                pass\n",
    "            else:\n",
    "                raise ValueError('Variables Mismatch! Unable to find {} in the Objective Function: {}'.format(v, expr))"
   ]
  },
  {
   "cell_type": "markdown",
   "metadata": {},
   "source": [
    "### Then we need to define the Pauli matrices and the Identity Matrices based on the number variables there are:"
   ]
  },
  {
   "cell_type": "code",
   "execution_count": 4,
   "metadata": {},
   "outputs": [],
   "source": [
    "# init function\n",
    "I = symbols('I')\n",
    "Z = []\n",
    "X = []\n",
    "Y = []\n",
    "\n",
    "# Next we define the pauli Z:\n",
    "for i in range(len(var)):\n",
    "    Z.append(symbols('Z_{}'.format(var[i][len(var[i])-1])))\n",
    "    Y.append(symbols('Y_{}'.format(var[i][len(var[i])-1])))\n",
    "    X.append(symbols('Y_{}'.format(var[i][len(var[i])-1])))"
   ]
  },
  {
   "cell_type": "markdown",
   "metadata": {},
   "source": [
    "### Since for each x term we substitute it with 1/2(I - Z) term but first we need to convert the expression into a sympy"
   ]
  },
  {
   "cell_type": "code",
   "execution_count": 5,
   "metadata": {},
   "outputs": [
    {
     "data": {
      "text/latex": [
       "$\\displaystyle 0.0625 I^{4} - 0.0625 I^{3} Z_{i} - 0.0625 I^{3} Z_{j} - 0.0625 I^{3} Z_{l} - 0.0625 I^{3} Z_{m} + 0.0625 I^{2} Z_{i} Z_{j} + 0.0625 I^{2} Z_{i} Z_{l} + 0.0625 I^{2} Z_{i} Z_{m} + 0.0625 I^{2} Z_{j} Z_{l} + 0.0625 I^{2} Z_{j} Z_{m} + 0.0625 I^{2} Z_{l} Z_{m} - 0.0625 I Z_{i} Z_{j} Z_{l} - 0.0625 I Z_{i} Z_{j} Z_{m} - 0.0625 I Z_{i} Z_{l} Z_{m} - 0.0625 I Z_{j} Z_{l} Z_{m} + 0.0625 Z_{i} Z_{j} Z_{l} Z_{m}$"
      ],
      "text/plain": [
       "0.0625*I**4 - 0.0625*I**3*Z_i - 0.0625*I**3*Z_j - 0.0625*I**3*Z_l - 0.0625*I**3*Z_m + 0.0625*I**2*Z_i*Z_j + 0.0625*I**2*Z_i*Z_l + 0.0625*I**2*Z_i*Z_m + 0.0625*I**2*Z_j*Z_l + 0.0625*I**2*Z_j*Z_m + 0.0625*I**2*Z_l*Z_m - 0.0625*I*Z_i*Z_j*Z_l - 0.0625*I*Z_i*Z_j*Z_m - 0.0625*I*Z_i*Z_l*Z_m - 0.0625*I*Z_j*Z_l*Z_m + 0.0625*Z_i*Z_j*Z_l*Z_m"
      ]
     },
     "execution_count": 5,
     "metadata": {},
     "output_type": "execute_result"
    }
   ],
   "source": [
    "sym_expr = sympify(expr)\n",
    "\n",
    "for i in range(len(var)):\n",
    "    s_term = (1/2)*(I - Z[i])\n",
    "    sym_expr = sym_expr.subs(var[i],s_term)\n",
    "    \n",
    "\n",
    "sym_expr = expand(sym_expr)\n",
    "sym_expr"
   ]
  },
  {
   "cell_type": "markdown",
   "metadata": {},
   "source": [
    "### Now we have to simpify the expressions by \n",
    "### 1. Multiplcation with the Identity Matrix\n",
    "### 2. Remove any global factors/ Identity Matrix"
   ]
  },
  {
   "cell_type": "code",
   "execution_count": 6,
   "metadata": {},
   "outputs": [
    {
     "data": {
      "text/latex": [
       "$\\displaystyle 0.0625 Z_{i} Z_{j} Z_{l} Z_{m} - 0.0625 Z_{i} Z_{j} Z_{l} - 0.0625 Z_{i} Z_{j} Z_{m} + 0.0625 Z_{i} Z_{j} - 0.0625 Z_{i} Z_{l} Z_{m} + 0.0625 Z_{i} Z_{l} + 0.0625 Z_{i} Z_{m} - 0.0625 Z_{i} - 0.0625 Z_{j} Z_{l} Z_{m} + 0.0625 Z_{j} Z_{l} + 0.0625 Z_{j} Z_{m} - 0.0625 Z_{j} + 0.0625 Z_{l} Z_{m} - 0.0625 Z_{l} - 0.0625 Z_{m}$"
      ],
      "text/plain": [
       "0.0625*Z_i*Z_j*Z_l*Z_m - 0.0625*Z_i*Z_j*Z_l - 0.0625*Z_i*Z_j*Z_m + 0.0625*Z_i*Z_j - 0.0625*Z_i*Z_l*Z_m + 0.0625*Z_i*Z_l + 0.0625*Z_i*Z_m - 0.0625*Z_i - 0.0625*Z_j*Z_l*Z_m + 0.0625*Z_j*Z_l + 0.0625*Z_j*Z_m - 0.0625*Z_j + 0.0625*Z_l*Z_m - 0.0625*Z_l - 0.0625*Z_m"
      ]
     },
     "execution_count": 6,
     "metadata": {},
     "output_type": "execute_result"
    }
   ],
   "source": [
    "sym_expr = sym_expr.subs(I,1)\n",
    "coe = sym_expr.as_coefficients_dict()\n",
    "\n",
    "g_phase = coe.get(1) # remove the global phase/values without Z terms\n",
    "sym_expr = sym_expr - g_phase\n",
    "sym_expr"
   ]
  },
  {
   "cell_type": "code",
   "execution_count": 7,
   "metadata": {},
   "outputs": [
    {
     "name": "stdout",
     "output_type": "stream",
     "text": [
      "['x_i', 'x_j', 'x_l', 'x_m']\n"
     ]
    },
    {
     "data": {
      "text/plain": [
       "[(1, 1, 1, 1),\n",
       " (1, 1, 1, 0),\n",
       " (1, 1, 0, 1),\n",
       " (1, 1, 0, 0),\n",
       " (1, 0, 1, 1),\n",
       " (1, 0, 1, 0),\n",
       " (1, 0, 0, 1),\n",
       " (1, 0, 0, 0),\n",
       " (0, 1, 1, 1),\n",
       " (0, 1, 1, 0),\n",
       " (0, 1, 0, 1),\n",
       " (0, 1, 0, 0),\n",
       " (0, 0, 1, 1),\n",
       " (0, 0, 1, 0),\n",
       " (0, 0, 0, 1)]"
      ]
     },
     "execution_count": 7,
     "metadata": {},
     "output_type": "execute_result"
    }
   ],
   "source": [
    "p_expr = Poly(sym_expr,Z)\n",
    "qc_list = p_expr.monoms()\n",
    "print(var)\n",
    "qc_list"
   ]
  },
  {
   "cell_type": "markdown",
   "metadata": {},
   "source": [
    "### Now we make all of this into a python class to aid us with the generation of the Quantum circuit"
   ]
  },
  {
   "cell_type": "code",
   "execution_count": 8,
   "metadata": {},
   "outputs": [],
   "source": [
    "import P_Hamil as ph"
   ]
  },
  {
   "cell_type": "markdown",
   "metadata": {},
   "source": [
    "### Import the P_Hamil to aid with the construction of the circuit\n",
    "### Define the Object Function and the variables:"
   ]
  },
  {
   "cell_type": "code",
   "execution_count": 9,
   "metadata": {},
   "outputs": [],
   "source": [
    "obj = 'x_5 * ((x_1*x_2) + (x_3*x_4))'\n",
    "var = ['x_1','x_2','x_3','x_4','x_5']"
   ]
  },
  {
   "cell_type": "markdown",
   "metadata": {},
   "source": [
    "### Create an instance of the Phase Hamiltonian generator"
   ]
  },
  {
   "cell_type": "code",
   "execution_count": 16,
   "metadata": {},
   "outputs": [],
   "source": [
    "pham = ph.P_Hamil(obj,var)"
   ]
  },
  {
   "cell_type": "markdown",
   "metadata": {},
   "source": [
    "### To get the objective function:"
   ]
  },
  {
   "cell_type": "code",
   "execution_count": 17,
   "metadata": {},
   "outputs": [
    {
     "data": {
      "text/latex": [
       "$\\displaystyle x_{5} \\left(x_{1} x_{2} + x_{3} x_{4}\\right)$"
      ],
      "text/plain": [
       "x_5*(x_1*x_2 + x_3*x_4)"
      ]
     },
     "execution_count": 17,
     "metadata": {},
     "output_type": "execute_result"
    }
   ],
   "source": [
    "pham.get_ObjFun()"
   ]
  },
  {
   "cell_type": "markdown",
   "metadata": {},
   "source": [
    "### In order to get the Hamiltonian as an expression of Pauli Matrix representation, we need to use the Hamify() function\n",
    "### After which we can get the Phase/Cost Hamiltonian:"
   ]
  },
  {
   "cell_type": "code",
   "execution_count": 18,
   "metadata": {},
   "outputs": [
    {
     "data": {
      "text/latex": [
       "$\\displaystyle - 0.125 Z_{1} Z_{2} Z_{5} + 0.125 Z_{1} Z_{2} + 0.125 Z_{1} Z_{5} + 0.125 Z_{1} + 0.125 Z_{2} Z_{5} + 0.125 Z_{2} - 0.125 Z_{3} Z_{4} Z_{5} + 0.125 Z_{3} Z_{4} + 0.125 Z_{3} Z_{5} + 0.125 Z_{3} + 0.125 Z_{4} Z_{5} + 0.125 Z_{4} + 0.25 Z_{5}$"
      ],
      "text/plain": [
       "-0.125*Z_1*Z_2*Z_5 + 0.125*Z_1*Z_2 + 0.125*Z_1*Z_5 + 0.125*Z_1 + 0.125*Z_2*Z_5 + 0.125*Z_2 - 0.125*Z_3*Z_4*Z_5 + 0.125*Z_3*Z_4 + 0.125*Z_3*Z_5 + 0.125*Z_3 + 0.125*Z_4*Z_5 + 0.125*Z_4 + 0.25*Z_5"
      ]
     },
     "execution_count": 18,
     "metadata": {},
     "output_type": "execute_result"
    }
   ],
   "source": [
    "pham.Hamify()\n",
    "pham.get_PHamil()"
   ]
  },
  {
   "cell_type": "code",
   "execution_count": 19,
   "metadata": {},
   "outputs": [
    {
     "data": {
      "text/plain": [
       "[(1, 1, 0, 0, 1),\n",
       " (1, 1, 0, 0, 0),\n",
       " (1, 0, 0, 0, 1),\n",
       " (1, 0, 0, 0, 0),\n",
       " (0, 1, 0, 0, 1),\n",
       " (0, 1, 0, 0, 0),\n",
       " (0, 0, 1, 1, 1),\n",
       " (0, 0, 1, 1, 0),\n",
       " (0, 0, 1, 0, 1),\n",
       " (0, 0, 1, 0, 0),\n",
       " (0, 0, 0, 1, 1),\n",
       " (0, 0, 0, 1, 0),\n",
       " (0, 0, 0, 0, 1)]"
      ]
     },
     "execution_count": 19,
     "metadata": {},
     "output_type": "execute_result"
    }
   ],
   "source": [
    "pham.get_QClist()"
   ]
  },
  {
   "cell_type": "markdown",
   "metadata": {},
   "source": [
    "### The perqubitmap function aids with the direct mapping of variables in the objective function to individual qubits in the Quantum Circuit:"
   ]
  },
  {
   "cell_type": "code",
   "execution_count": 20,
   "metadata": {},
   "outputs": [],
   "source": [
    "qc = pham.perQubitMap(1.22222,p=1)"
   ]
  },
  {
   "cell_type": "code",
   "execution_count": 21,
   "metadata": {},
   "outputs": [
    {
     "data": {
      "image/png": "[encoded data removed]",
      "text/plain": [
       "<Figure size 1661.52x806.68 with 1 Axes>"
      ]
     },
     "execution_count": 21,
     "metadata": {},
     "output_type": "execute_result"
    }
   ],
   "source": [
    "pham.drawCircuit(output='mpl')"
   ]
  },
  {
   "cell_type": "code",
   "execution_count": null,
   "metadata": {},
   "outputs": [],
   "source": []
  }
 ],
 "metadata": {
  "kernelspec": {
   "display_name": "Python 3",
   "language": "python",
   "name": "python3"
  },
  "language_info": {
   "codemirror_mode": {
    "name": "ipython",
    "version": 3
   },
   "file_extension": ".py",
   "mimetype": "text/x-python",
   "name": "python",
   "nbconvert_exporter": "python",
   "pygments_lexer": "ipython3",
   "version": "3.7.3"
  }
 },
 "nbformat": 4,
 "nbformat_minor": 2
}
